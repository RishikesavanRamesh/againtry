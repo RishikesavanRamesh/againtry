{
  "cells": [
    {
      "cell_type": "raw",
      "metadata": {},
      "source": [
        "---\n",
        "title: \"My Portfolio\"\n",
        "---"
      ],
      "id": "73f49814"
    },
    {
      "cell_type": "markdown",
      "metadata": {},
      "source": [
        "```{css}\n",
        "body {\n",
        "  display: flex;\n",
        "  align-items: center;\n",
        "  justify-content: flex-start;\n",
        "  height: 100vh;\n",
        "  background-image: url(\"background.jpg\");\n",
        "  background-size: cover;\n",
        "  padding-left: 20%;\n",
        "}\n",
        "\n",
        ".name-container {\n",
        "  text-align: center;\n",
        "}\n",
        "\n",
        "#alias {\n",
        "  font-size: 24px;\n",
        "  font-weight: bold;\n",
        "}\n",
        "\n",
        "#additional-line {\n",
        "  font-size: 16px;\n",
        "}\n",
        "\n",
        "**\n",
        "Rishikesavan Ramesh**\n",
        "\n",
        "<div class=\"name-container\">\n",
        "  <p id=\"alias\"></p>\n",
        "  <p id=\"additional-line\"></p>\n",
        "</div>\n",
        "```{js}\n",
        "import Typed from 'typed.js';\n",
        "\n",
        "const typed = new Typed('#alias', {\n",
        "  strings: [\"coder\", \"cader\", \"mechatronics engineer\", \"marvel fan\"],\n",
        "  typeSpeed: 65,\n",
        "  backSpeed: 65,\n",
        "  loop: true,\n",
        "  showCursor: false\n",
        "});\n",
        "\n",
        "typed.onStringTyped(() => {\n",
        "  const additionalLine = document.getElementById('additional-line');\n",
        "  additionalLine.innerHTML = `I am a ${typed.strings[typed.currentStringIndex]} using Type.js`;\n",
        "});\n",
        "```"
      ],
      "id": "256bedda"
    }
  ],
  "metadata": {
    "kernelspec": {
      "display_name": "Python 3",
      "language": "python",
      "name": "python3"
    }
  },
  "nbformat": 4,
  "nbformat_minor": 5
}